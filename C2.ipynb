{
 "cells": [
  {
   "cell_type": "markdown",
   "metadata": {},
   "source": [
    "# Statistical Learning\n",
    "## 2.3 Lab: Introduction to Python\n",
    "\n",
    "### 2.3.1 Basic Commands with Python, Numpy"
   ]
  },
  {
   "cell_type": "code",
   "execution_count": 55,
   "metadata": {},
   "outputs": [],
   "source": [
    "# imports\n",
    "import numpy as np\n",
    "from scipy.stats.stats import pearsonr\n",
    "\n",
    "import seaborn as sns\n",
    "import matplotlib\n",
    "import matplotlib.pyplot as plt\n",
    "from mpl_toolkits.mplot3d import Axes3D # for 3D plots\n",
    "\n",
    "import math\n",
    "\n",
    "import pandas as pd\n",
    "\n",
    "import IPython as ipy\n",
    "import sklearn as skl\n",
    "import statsmodels as sm\n",
    "import scipy as sp\n",
    "import pydot as pdt\n",
    "import patsy as pat\n",
    "import glmnet as gln"
   ]
  },
  {
   "cell_type": "code",
   "execution_count": 61,
   "metadata": {},
   "outputs": [],
   "source": [
    "# notebook setup\n",
    "%load_ext autoreload\n",
    "%autoreload 2\n",
    "%matplotlib inline\n",
    "pd.set_option('precision', 2) # number precision for pandas\n",
    "plt.style.use('seaborn') # pretty matplotlib plots"
   ]
  },
  {
   "cell_type": "code",
   "execution_count": 33,
   "metadata": {},
   "outputs": [
    {
     "data": {
      "text/plain": [
       "(3, 3)"
      ]
     },
     "execution_count": 33,
     "metadata": {},
     "output_type": "execute_result"
    }
   ],
   "source": [
    "# vector/array creation\n",
    "x = np.array([1, 6, 2])\n",
    "y = np.array([1, 4, 3])\n",
    "len(x), len(y)"
   ]
  },
  {
   "cell_type": "code",
   "execution_count": 3,
   "metadata": {},
   "outputs": [
    {
     "data": {
      "text/plain": [
       "array([ 2, 10,  5])"
      ]
     },
     "execution_count": 3,
     "metadata": {},
     "output_type": "execute_result"
    }
   ],
   "source": [
    "# array operations\n",
    "x + y"
   ]
  },
  {
   "cell_type": "code",
   "execution_count": 73,
   "metadata": {},
   "outputs": [
    {
     "name": "stdout",
     "output_type": "stream",
     "text": [
      "y\t \n",
      "Variable     Type        Data/Info\n",
      "----------------------------------\n",
      "Axes3D       type        <class 'mpl_toolkits.mplot3d.axes3d.Axes3D'>\n",
      "gln          module      <module 'glmnet' from '/U<...>ages/glmnet/__init__.py'>\n",
      "ipy          module      <module 'IPython' from '/<...>ges/IPython/__init__.py'>\n",
      "math         module      <module 'math' from '/Use<...>h.cpython-37m-darwin.so'>\n",
      "matplotlib   module      <module 'matplotlib' from<...>/matplotlib/__init__.py'>\n",
      "np           module      <module 'numpy' from '/Us<...>kages/numpy/__init__.py'>\n",
      "pat          module      <module 'patsy' from '/Us<...>kages/patsy/__init__.py'>\n",
      "pd           module      <module 'pandas' from '/U<...>ages/pandas/__init__.py'>\n",
      "pdt          module      <module 'pydot' from '/Us<...>/site-packages/pydot.py'>\n",
      "pearsonr     function    <function pearsonr at 0x1103949d8>\n",
      "plt          module      <module 'matplotlib.pyplo<...>es/matplotlib/pyplot.py'>\n",
      "skl          module      <module 'sklearn' from '/<...>ges/sklearn/__init__.py'>\n",
      "sm           module      <module 'statsmodels' fro<...>statsmodels/__init__.py'>\n",
      "sns          module      <module 'seaborn' from '/<...>ges/seaborn/__init__.py'>\n",
      "sp           module      <module 'scipy' from '/Us<...>kages/scipy/__init__.py'>\n",
      "x            matrix      [[1 3]\\n [2 4]]\n",
      "y            ndarray     3: 3 elems, type `int64`, 24 bytes\n"
     ]
    },
    {
     "data": {
      "text/plain": [
       "['Axes3D',\n",
       " 'gln',\n",
       " 'ipy',\n",
       " 'math',\n",
       " 'matplotlib',\n",
       " 'np',\n",
       " 'pat',\n",
       " 'pd',\n",
       " 'pdt',\n",
       " 'pearsonr',\n",
       " 'plt',\n",
       " 'skl',\n",
       " 'sm',\n",
       " 'sns',\n",
       " 'sp',\n",
       " 'x',\n",
       " 'y']"
      ]
     },
     "execution_count": 73,
     "metadata": {},
     "output_type": "execute_result"
    }
   ],
   "source": [
    "# R ls() counter part in python or notebook\n",
    "#dir() #will give you the list of in scope variables:\n",
    "#globals() #will give you a dictionary of global variables\n",
    "#locals() #will give you a dictionary of local variables\n",
    "%who ndarray\n",
    "%whos\n",
    "%who_ls"
   ]
  },
  {
   "cell_type": "code",
   "execution_count": 18,
   "metadata": {},
   "outputs": [],
   "source": [
    "# R rm() counter part in python\n",
    "del(x,y)"
   ]
  },
  {
   "cell_type": "code",
   "execution_count": 69,
   "metadata": {},
   "outputs": [
    {
     "data": {
      "text/plain": [
       "\u001b[0;31mDocstring:\u001b[0m\n",
       "Print information about the magic function system.\n",
       "\n",
       "Supported formats: -latex, -brief, -rest\n",
       "\u001b[0;31mFile:\u001b[0m      ~/.virtualenvs/py3ml/lib/python3.7/site-packages/IPython/core/magics/basic.py\n"
      ]
     },
     "metadata": {},
     "output_type": "display_data"
    }
   ],
   "source": [
    "? %magic"
   ]
  },
  {
   "cell_type": "code",
   "execution_count": 72,
   "metadata": {},
   "outputs": [
    {
     "data": {
      "text/plain": [
       "matrix([[1, 3],\n",
       "        [2, 4]])"
      ]
     },
     "execution_count": 72,
     "metadata": {},
     "output_type": "execute_result"
    }
   ],
   "source": [
    "# matrix creation\n",
    "x = np.asmatrix(np.arange(1, 5).reshape(2, 2).transpose())\n",
    "x\n",
    "#? np.asmatrix"
   ]
  },
  {
   "cell_type": "code",
   "execution_count": 42,
   "metadata": {},
   "outputs": [
    {
     "data": {
      "text/plain": [
       "array([1, 4, 3])"
      ]
     },
     "execution_count": 42,
     "metadata": {},
     "output_type": "execute_result"
    }
   ],
   "source": [
    "y"
   ]
  },
  {
   "cell_type": "code",
   "execution_count": 40,
   "metadata": {},
   "outputs": [
    {
     "data": {
      "text/plain": [
       "matrix([[ 1,  9],\n",
       "        [ 4, 16]])"
      ]
     },
     "execution_count": 40,
     "metadata": {},
     "output_type": "execute_result"
    }
   ],
   "source": [
    "#matrix operations\n",
    "np.power(x, 2)"
   ]
  }
 ],
 "metadata": {
  "kernelspec": {
   "display_name": "Python 3",
   "language": "python",
   "name": "python3"
  },
  "language_info": {
   "codemirror_mode": {
    "name": "ipython",
    "version": 3
   },
   "file_extension": ".py",
   "mimetype": "text/x-python",
   "name": "python",
   "nbconvert_exporter": "python",
   "pygments_lexer": "ipython3",
   "version": "3.7.0"
  }
 },
 "nbformat": 4,
 "nbformat_minor": 2
}
